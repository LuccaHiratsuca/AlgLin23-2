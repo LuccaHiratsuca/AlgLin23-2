{
 "cells": [
  {
   "cell_type": "markdown",
   "metadata": {},
   "source": [
    "# Projeto 4: \"O Desafio NetFlix\""
   ]
  },
  {
   "cell_type": "markdown",
   "metadata": {},
   "source": [
    "### 1: O que acontece quando um elemento da matriz é aleatorizado?"
   ]
  },
  {
   "cell_type": "markdown",
   "metadata": {},
   "source": [
    "Relembrando:\n",
    "- Cada linha do dataframe representa um usuário, sua nota para um filme e, qual filme é esse.\n",
    "- Cada coluna do dataframe representa um filme, sua nota para um usuário e, qual usuário é esse.\n",
    "\n",
    "Sabendo disso, é feito o processo:\n",
    "1. Sortear um usuário, feito em:\n",
    "    ```python\n",
    "    random_line = np.random.randint(0,df.shape[0])\n",
    "    random_line_movieid = df.loc[random_line][\"movieId\"].astype(int)\n",
    "    random_line_movierating = df.loc[random_line][\"rating\"].astype(float)\n",
    "    random_line_movieuser = df.loc[random_line][\"userId\"].astype(int)\n",
    "    ```\n",
    "\n",
    "2. Sortear uma nota aleatória e substituir a nota do usuário sorteado pelo valor aleatório, feito em:\n",
    "    ```python\n",
    "    random_float = np.random.uniform(0,5)\n",
    "    df.loc[random_line, \"rating\"] = random_rating\n",
    "    Matriz_B.loc[random_line_movieuser,random_line_movieid] = random_float\n",
    "    ```\n",
    "\n",
    "Ou seja, pegamos um usuário aleatório, pegamos um filme aleatório que ele assistiu e, substituimos a nota que ele deu por uma nota aleatória.\n",
    "\n",
    "Fazendo isso, nós geramos ruídos na matriz, pois, estamos substituindo uma nota real por uma nota aleatória, o que pode gerar uma nota muito alta ou muito baixa, dependendo do valor sorteado."
   ]
  },
  {
   "cell_type": "markdown",
   "metadata": {},
   "source": [
    "### 2: Qual é a relação entre remover o ruído e a qualidade das recomendações?"
   ]
  },
  {
   "cell_type": "markdown",
   "metadata": {},
   "source": [
    "Sabendo que os ruídos nos dados refere-se a informações ou distorções que podem introduzir ou exacerbar viéses no dados e no resultado do algoritmo de recomendação, dentre esses:\n",
    "\n",
    "- Distorcer as recomendações;\n",
    "- Imprecisão;\n",
    "- Variações aleatórias, erros de medição;\n",
    "- Entre outros.\n",
    "\n",
    "Logo, tratar dessa remoção de ruídos nos ajuda a mitigar esses viéses, melhorando a qualidade das recomendações.\n",
    "\n",
    "**Sobre a qualidade das recomendações:**\n",
    "\n",
    "Além disso, por termos utilizado o algoritmo de SVD, que, por sua vez, pega nossa matriz e a decompoem em 3 partes, sendo elas:\n",
    "- $U$: Matriz de usuários, onde cada linha representa um usuário e cada coluna representa um fator latente.\n",
    "- $S$: Matriz diagonal, onde cada elemento representa um autovalor.\n",
    "- $V$: Matriz de filmes, onde cada linha representa um filme e cada coluna representa um fator latente.\n",
    "\n",
    "#### Autovetores e Autovalores:\n",
    "Acabamos tendo em nossa matriz, os autovalores e autovetores, que são os responsáveis por representar a direção e a magnitude dos dados, respectivamente. Por conta disso, podemos utilizá-los para reduzir a dimensionalidade dos dados, o que nos ajuda a reduzir o ruído e, consequentemente, melhorar a qualidade das recomendações, mantendo as características mais importantes dos dados.\n",
    "\n",
    "Sabendo disso, podemos após utilizar a decomposição da nossa matriz, remover os autovalores e autovetores que possuem uma magnitude muito baixa, o que nos ajuda a reduzir os nossos ruído e, consequentemente, melhorar a qualidade das recomendações, sendo que ao mesmo tempo que estamos removendo o ruído, estamos mantendo as características mais importantes dos dados (quanto maior a magnitude, mais importante é a característica, assim os primeiros autovalores e autovetores são os mais importantes).\n",
    "\n",
    "E, depois de fazermos isso, precisamos apenas recompor a nossa matriz, dessa vez com menos ruídos, porém mantendo as suas principais características.\n",
    "\n",
    "Assim, conseguimos criar uma nova matriz similar a original, porém com menos ruídos!"
   ]
  },
  {
   "cell_type": "markdown",
   "metadata": {},
   "source": [
    "### 3: Por que é importante realizar múltiplas estimativas e gerar um histograma de erros?"
   ]
  },
  {
   "cell_type": "markdown",
   "metadata": {},
   "source": [
    "É importante realizar múltiplas estimativas e gerar um histograma de erros, pois com isso podemos obter diversas informações, como:\n",
    "- A média e mediana dos erros;\n",
    "- A distribuição dos erros;\n",
    "- Detecção de outliers;\n",
    "- Identificação de viéses;\n",
    "- Entender o comportamento dos erros;\n",
    "- Entre outros.\n",
    "\n",
    "#### Múltiplas estimativas:\n",
    "\n",
    "Sabendo que o erro é dados por:\n",
    "$$\n",
    "\\epsilon = \\hat{y} - y\n",
    "$$\n",
    "\n",
    "Onde:\n",
    "- $\\epsilon$: Erro;\n",
    "- $\\hat{y}$: Valor estimado;\n",
    "- $y$: Valor real.\n",
    "\n",
    "Podemos ver que o erro é a diferença entre o valor estimado e o valor real, ou seja, quanto menor o erro, melhor é o nosso resultado.\n",
    "\n",
    "Além disso, o número de estimativas é importante, pois quanto mais estimativas, mais confiável é o nosso resultado, pois, estamos tendo mais dados para analisar nosso resultado.\n",
    "\n",
    "Se fizermos apenas uma estimativa, podemos acabar tendo um resultado muito ruim ou muito bom, e isso pode ser um viés, pois, pode ser que tenhamos sorte ou azar na nossa estimativa, porém, se fizermos várias estimativas, podemos ter uma média dos erros, o que nos ajuda a ter um resultado mais confiável."
   ]
  },
  {
   "cell_type": "markdown",
   "metadata": {},
   "source": [
    "### 4: Como as técnicas vistas em aula foram aplicadas para alcançar os objetivos do projeto?"
   ]
  },
  {
   "cell_type": "markdown",
   "metadata": {},
   "source": [
    "Dentre; as técnicas vistas em aula, utilizamos:\n",
    "- PCA;\n",
    "- SVD;\n",
    "- Autovalores e Autovetores;\n",
    "\n",
    "Sem o aprendizado desses e sabendo que o objetivo do nosso projeto é pegar um dataframe de filmes (Netflxi Challenge) e mancharmos alguns dados para, depois, tentarmos reduzir esses ruídos e, alcançarmos uma matriz similar a original, porém com menos ruídos, não conseguiríamos alcançar o nosso objetivo.\n",
    "\n",
    "Uma vez que para isso, é de suma importância que saibamos no minímo o que são autovetores e autovalores, pois eles contém as informações de direção e magnitude dos dados, respectivamente, o que nos ajuda a reduzir a dimensionalidade dos dados, já que podemos remover aqueles que possuem uma magnitude muito baixa. \n",
    "\n",
    "Além disso, se não soubermos o que é PCA, não conseguiríamos entender os conceitos de pegar apenas os componentes principais dos dados (que são os autovetores e autovalores) e, a partir desse, transformar os dados em um novo espaço, que é o espaço dos componentes principais, o que nos ajuda a reduzir a dimensionalidade dos dados, mantendo as características mais importantes dos dados.\n",
    "\n",
    "E, por fim, se não soubermos o que é SVD, não conseguiríamos entender os conceitos de decompor a nossa matriz em 3 partes, obtendo assim, a matriz de usuários, a matriz diagonal e a matriz de filmes, o que nos ajuda a reduzir o ruído e, consequentemente, melhorar a qualidade das recomendações, mantendo as características mais importantes dos dados.\n",
    "\n",
    "Obsevação:\n",
    "- A PCA possui dimensionalidade $n \\times n$, onde $n$ é o número de features. Enquanto que a SVD possui dimensionalidade $m \\times n$, onde $m$ é o número de linhas e $n$ é o número de colunas. Ou seja, a SVD possui uma dimensionalidade maior que a PCA, pois, a SVD possui mais informações, já que ela possui as informações de usuários, filmes e, as notas que os usuários deram para os filmes.\n"
   ]
  }
 ],
 "metadata": {
  "language_info": {
   "name": "python"
  },
  "orig_nbformat": 4
 },
 "nbformat": 4,
 "nbformat_minor": 2
}
