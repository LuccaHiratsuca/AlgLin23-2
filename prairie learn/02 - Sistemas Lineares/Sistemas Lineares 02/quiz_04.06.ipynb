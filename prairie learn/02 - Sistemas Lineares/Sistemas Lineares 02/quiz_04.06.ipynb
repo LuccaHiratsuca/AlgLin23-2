{
 "cells": [
  {
   "cell_type": "markdown",
   "metadata": {},
   "source": [
    "<p align=\"center\" >\n",
    "    <img src=\"../../../my assets/02-sistemas_lineares/prairie_learn_08.jpg\" alt=\"Kitten\" title=\"A cute kitten\" width=\"550\" height=\"320\" /> \n",
    "</p>"
   ]
  }
 ],
 "metadata": {
  "language_info": {
   "name": "python"
  },
  "orig_nbformat": 4
 },
 "nbformat": 4,
 "nbformat_minor": 2
}
