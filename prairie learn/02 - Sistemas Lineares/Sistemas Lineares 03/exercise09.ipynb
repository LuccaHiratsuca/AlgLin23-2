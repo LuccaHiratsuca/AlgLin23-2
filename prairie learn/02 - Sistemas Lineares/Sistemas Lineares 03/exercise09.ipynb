{
 "cells": [
  {
   "cell_type": "markdown",
   "metadata": {},
   "source": [
    "#### Considere as matrizes $A \\in \\mathbb{R}^{2 \\times 2}$, $B \\in \\mathbb{R}^{2 \\times 2}$ e $C \\in \\mathbb{R}^{2 \\times 2}$ abaixo:"
   ]
  },
  {
   "cell_type": "code",
   "execution_count": 3,
   "metadata": {},
   "outputs": [],
   "source": [
    "import numpy as np\n",
    "\n",
    "A = np.array([[0.80, 0.20], [1.70, 0.80]])\n",
    "B = np.array([[1.00, 0.00], [1.70, 1.30]])\n",
    "C = np.array([[0.80, 0.80], [1.60, 0.90]])"
   ]
  },
  {
   "cell_type": "markdown",
   "metadata": {},
   "source": [
    "Sabendo que ABABBABAX = C, calcule X."
   ]
  },
  {
   "cell_type": "code",
   "execution_count": 4,
   "metadata": {},
   "outputs": [
    {
     "name": "stdout",
     "output_type": "stream",
     "text": [
      "[[ 104.72699809  177.27397137]\n",
      " [-316.25973465 -535.57178696]]\n"
     ]
    }
   ],
   "source": [
    "# Sabendo que ABABBABAX = C, calcule X\n",
    "\n",
    "ABABBABA = A.dot(B).dot(A).dot(B).dot(B).dot(A).dot(B).dot(A)\n",
    "X = np.linalg.solve(ABABBABA, C)\n",
    "\n",
    "print(X)"
   ]
  },
  {
   "cell_type": "markdown",
   "metadata": {},
   "source": []
  },
  {
   "cell_type": "code",
   "execution_count": null,
   "metadata": {},
   "outputs": [],
   "source": [
    "import numpy as np\n",
    "\n",
    "A = np.array([[1.50, 1.40], [0.90, 2.00]])\n",
    "B = np.array([[0.70, 1.10], [1.10, 1.00]])\n",
    "C = np.array([[1.60, 1.10], [1.10, 0.80]])"
   ]
  },
  {
   "cell_type": "code",
   "execution_count": 5,
   "metadata": {},
   "outputs": [
    {
     "name": "stdout",
     "output_type": "stream",
     "text": [
      "[[-0.93846154  1.17948718]\n",
      " [ 2.52307692 -1.64102564]]\n"
     ]
    }
   ],
   "source": [
    "# Calcule as inversas de A e B\n",
    "A_inv = np.linalg.inv(A)\n",
    "B_inv = np.linalg.inv(B)\n",
    "\n",
    "# Calcule a matriz X\n",
    "X = np.dot(np.dot(A_inv, C), B_inv)\n",
    "\n",
    "print(X)"
   ]
  },
  {
   "cell_type": "code",
   "execution_count": null,
   "metadata": {},
   "outputs": [],
   "source": []
  },
  {
   "cell_type": "code",
   "execution_count": 6,
   "metadata": {},
   "outputs": [
    {
     "name": "stdout",
     "output_type": "stream",
     "text": [
      "[ 2.09858881  0.22708533 -0.98579609  0.5275446  -2.46917829  2.91637406\n",
      "  0.14090356]\n"
     ]
    }
   ],
   "source": [
    "import numpy as np\n",
    "\n",
    "A = np.array([[3.4, 9.7, 2.1, 5.8, 1.6, 0.5, 3.3],\n",
    "              [2.7, 0.3, 7.4, 5.1, 2.2, 2.5, 1.5],\n",
    "              [2.7, 0.6, 9.2, 9.4, 4.4, 3.2, 8.8],\n",
    "              [5.2, 6.3, 8.3, 1.9, 4.9, 3.0, 7.0],\n",
    "              [4.3, 0.3, 6.3, 2.7, 5.1, 3.7, 9.2],\n",
    "              [7.1, 5.6, 2.6, 8.3, 10.0, 3.5, 1.4],\n",
    "              [2.9, 8.1, 6.2, 1.2, 6.0, 5.5, 7.3]])\n",
    "\n",
    "b = np.array([8.3, 3.2, 1.4, 2.8, 3.8, 3.7, 4.7])\n",
    "\n",
    "# Calculando a matriz inversa de A\n",
    "A_inv = np.linalg.inv(A)\n",
    "\n",
    "# Calculando o vetor das incógnitas x\n",
    "x = np.dot(A_inv, b)\n",
    "\n",
    "print(x)\n"
   ]
  }
 ],
 "metadata": {
  "kernelspec": {
   "display_name": "env",
   "language": "python",
   "name": "python3"
  },
  "language_info": {
   "codemirror_mode": {
    "name": "ipython",
    "version": 3
   },
   "file_extension": ".py",
   "mimetype": "text/x-python",
   "name": "python",
   "nbconvert_exporter": "python",
   "pygments_lexer": "ipython3",
   "version": "3.10.10"
  },
  "orig_nbformat": 4
 },
 "nbformat": 4,
 "nbformat_minor": 2
}
