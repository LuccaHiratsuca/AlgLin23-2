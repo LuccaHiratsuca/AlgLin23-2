{
 "cells": [
  {
   "cell_type": "code",
   "execution_count": 1,
   "metadata": {},
   "outputs": [],
   "source": [
    "import numpy as np\n",
    "\n",
    "v = np.array([[-0.19169815, -0.82221970, 0.34302898], [-0.54777203, -0.05664441, -0.86424625], [-0.81436946, 0.56634458, 0.36798034]])\n",
    "w = np.array([1.48213270, 0.34933964, -0.32147235])"
   ]
  },
  {
   "cell_type": "code",
   "execution_count": 2,
   "metadata": {},
   "outputs": [
    {
     "data": {
      "text/plain": [
       "array([[0.37      , 0.3       , 0.06      ],\n",
       "       [0.52      , 0.2       , 0.74      ],\n",
       "       [0.36      , 0.68000001, 0.94      ]])"
      ]
     },
     "execution_count": 2,
     "metadata": {},
     "output_type": "execute_result"
    }
   ],
   "source": [
    "# Qual a matriz X cujos autovalores são w e os autovetores v?\n",
    "\n",
    "# Diagonal matrix with w as diagonal elements\n",
    "D = np.diag(w)\n",
    "\n",
    "# Calculate X using the relation\n",
    "X = v @ D @ np.linalg.inv(v)\n",
    "X"
   ]
  }
 ],
 "metadata": {
  "kernelspec": {
   "display_name": "env",
   "language": "python",
   "name": "python3"
  },
  "language_info": {
   "codemirror_mode": {
    "name": "ipython",
    "version": 3
   },
   "file_extension": ".py",
   "mimetype": "text/x-python",
   "name": "python",
   "nbconvert_exporter": "python",
   "pygments_lexer": "ipython3",
   "version": "3.10.10"
  },
  "orig_nbformat": 4
 },
 "nbformat": 4,
 "nbformat_minor": 2
}
