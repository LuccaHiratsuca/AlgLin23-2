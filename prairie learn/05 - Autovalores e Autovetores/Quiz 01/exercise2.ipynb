{
 "cells": [
  {
   "cell_type": "code",
   "execution_count": 6,
   "metadata": {},
   "outputs": [],
   "source": [
    "import numpy as np\n",
    "\n",
    "A = np.array([[0.91, 0.35, 0.19, 0.17, 0.78, 0.19, 0.33, 0.76], [0.45, 0.34, 0.94, 0.61, 0.70, 0.69, 0.14, 0.90], [0.26, 0.55, 0.83, 0.80, 0.31, 0.70, 0.07, 0.23], [0.32, 0.15, 0.31, 0.27, 0.21, 0.05, 0.72, 0.68], [0.85, 0.53, 0.17, 0.04, 0.81, 0.42, 0.74, 0.05], [0.47, 0.18, 0.39, 0.15, 0.56, 0.93, 0.92, 0.26], [0.28, 0.31, 0.41, 0.65, 0.15, 0.65, 0.07, 0.37], [0.96, 0.67, 0.09, 0.29, 0.69, 0.20, 0.08, 0.85]])"
   ]
  },
  {
   "cell_type": "markdown",
   "metadata": {},
   "source": [
    "### Calcule os autovalores e autovetores da matriz e responda:"
   ]
  },
  {
   "cell_type": "markdown",
   "metadata": {},
   "source": [
    "#### Qual o maior autovalor da matriz?"
   ]
  },
  {
   "cell_type": "code",
   "execution_count": 7,
   "metadata": {},
   "outputs": [
    {
     "data": {
      "text/plain": [
       "3.664077692531126"
      ]
     },
     "execution_count": 7,
     "metadata": {},
     "output_type": "execute_result"
    }
   ],
   "source": [
    "# Calculate eigenvalues and eigenvectors of matrix A\n",
    "w_A, v_A = np.linalg.eig(A)\n",
    "\n",
    "# Find the largest eigenvalue\n",
    "largest_eigenvalue = np.max(w_A)\n",
    "largest_eigenvalue"
   ]
  },
  {
   "cell_type": "markdown",
   "metadata": {},
   "source": [
    "#### Qual o autovetor correspondente ao maior autovalor da matriz?"
   ]
  },
  {
   "cell_type": "code",
   "execution_count": 8,
   "metadata": {},
   "outputs": [
    {
     "name": "stdout",
     "output_type": "stream",
     "text": [
      "O maior autovalor da matriz é 3.664077692531126\n",
      "O autovetor correspondente ao maior autovalor é [0.36046413 0.4584651  0.35629423 0.24878261 0.3468976  0.35602457\n",
      " 0.27199662 0.38725107]\n"
     ]
    }
   ],
   "source": [
    "eigenvalues, eigenvectors = np.linalg.eig(A)\n",
    "max_eigenvalue_index = np.argmax(eigenvalues)\n",
    "max_eigenvalue = eigenvalues[max_eigenvalue_index]\n",
    "max_eigenvector = eigenvectors[:, max_eigenvalue_index]\n",
    "\n",
    "print(f\"O maior autovalor da matriz é {max_eigenvalue}\")\n",
    "print(f\"O autovetor correspondente ao maior autovalor é {max_eigenvector}\")"
   ]
  },
  {
   "cell_type": "code",
   "execution_count": null,
   "metadata": {},
   "outputs": [],
   "source": []
  }
 ],
 "metadata": {
  "kernelspec": {
   "display_name": "env",
   "language": "python",
   "name": "python3"
  },
  "language_info": {
   "codemirror_mode": {
    "name": "ipython",
    "version": 3
   },
   "file_extension": ".py",
   "mimetype": "text/x-python",
   "name": "python",
   "nbconvert_exporter": "python",
   "pygments_lexer": "ipython3",
   "version": "3.10.10"
  },
  "orig_nbformat": 4
 },
 "nbformat": 4,
 "nbformat_minor": 2
}
