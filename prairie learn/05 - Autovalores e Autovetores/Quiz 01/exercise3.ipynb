{
 "cells": [
  {
   "cell_type": "code",
   "execution_count": 1,
   "metadata": {},
   "outputs": [],
   "source": [
    "import numpy as np\n",
    "\n",
    "A = np.array([[0.67, 0.89], [0.82, 0.57]])"
   ]
  },
  {
   "cell_type": "markdown",
   "metadata": {},
   "source": [
    "### Calcule os autovalores e autovetores da matriz e responda:"
   ]
  },
  {
   "cell_type": "code",
   "execution_count": 3,
   "metadata": {},
   "outputs": [
    {
     "name": "stdout",
     "output_type": "stream",
     "text": [
      "Autovalores: [ 1.47574529 -0.23574529]\n",
      "Autovetores: [[ 0.74132556 -0.70087985]\n",
      " [ 0.6711456   0.71327935]]\n",
      "Menor autovalor: -0.2357452892070164\n",
      "Autovetor correspondente ao menor autovalor: [-0.70087985  0.71327935]\n",
      "Maior autovalor: 1.4757452892070162\n",
      "Autovetor correspondente ao maior autovalor: [0.74132556 0.6711456 ]\n"
     ]
    }
   ],
   "source": [
    "# Encontrando autovalores e autovetores\n",
    "w, v = np.linalg.eig(A)\n",
    "\n",
    "idx_max = np.argmax(w)\n",
    "\n",
    "# Encontrando o autovetor correspondente ao maior autovalor\n",
    "v_max = v[:, idx_max]\n",
    "\n",
    "\n",
    "# Encontrando o índice do menor autovalor\n",
    "idx_min = np.argmin(w)\n",
    "\n",
    "# Encontrando o autovetor correspondente ao menor autovalor\n",
    "v_min = v[:, idx_min]\n",
    "\n",
    "print(\"Autovalores:\", w)\n",
    "print(\"Autovetores:\", v)\n",
    "print(\"Menor autovalor:\", w[idx_min])\n",
    "print(\"Autovetor correspondente ao menor autovalor:\", v_min)\n",
    "print(\"Maior autovalor:\", w[idx_max])\n",
    "print(\"Autovetor correspondente ao maior autovalor:\", v_max)"
   ]
  }
 ],
 "metadata": {
  "kernelspec": {
   "display_name": "env",
   "language": "python",
   "name": "python3"
  },
  "language_info": {
   "codemirror_mode": {
    "name": "ipython",
    "version": 3
   },
   "file_extension": ".py",
   "mimetype": "text/x-python",
   "name": "python",
   "nbconvert_exporter": "python",
   "pygments_lexer": "ipython3",
   "version": "3.10.10"
  },
  "orig_nbformat": 4
 },
 "nbformat": 4,
 "nbformat_minor": 2
}
