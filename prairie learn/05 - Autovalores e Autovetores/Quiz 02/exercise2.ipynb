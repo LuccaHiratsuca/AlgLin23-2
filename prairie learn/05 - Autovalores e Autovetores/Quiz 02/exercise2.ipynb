{
 "cells": [
  {
   "cell_type": "markdown",
   "metadata": {},
   "source": [
    "<p align=\"center\" >\n",
    "    <img src=\"../../../my assets/05 - autovetores e autovalores/Q2_exercise2.jpg\" alt=\"Kitten\" title=\"A cute kitten\" width=\"500\" height=450\" /> \n",
    "</p>"
   ]
  }
 ],
 "metadata": {
  "language_info": {
   "name": "python"
  },
  "orig_nbformat": 4
 },
 "nbformat": 4,
 "nbformat_minor": 2
}
