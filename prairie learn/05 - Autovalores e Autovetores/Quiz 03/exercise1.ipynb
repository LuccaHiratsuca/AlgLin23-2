{
 "cells": [
  {
   "cell_type": "code",
   "execution_count": 1,
   "metadata": {},
   "outputs": [],
   "source": [
    "import numpy as np\n",
    "\n",
    "v = np.array([[0.58639115, 0.24310197, -0.37889737, 0.61752548, 0.15798896,  -0.21722202], [0.41149160, 0.01992217, 0.23557598, -0.04069801, 0.30165929, 0.82590985], [0.06092626, 0.01010805, 0.54079825, 0.47638929, -0.68476517, 0.08872975], [-0.34709555, -0.29251945, -0.63774706, 0.29128445, -0.27447666,  0.47649940], [-0.40609639, -0.32499995, 0.31899142, 0.53867701, 0.57731255,  -0.06513467], [-0.44465546, 0.86556905, -0.00107458, 0.12263624, 0.08068830,  0.17753971]])\n",
    "w = np.array([1.81411856, 0.52129090, 0.63382013, 0.95298849, 1.35422152, 1.20714853])"
   ]
  },
  {
   "cell_type": "code",
   "execution_count": 2,
   "metadata": {},
   "outputs": [],
   "source": [
    "# Quantas features existiam no conjunto de dados?\n",
    "# R: 6"
   ]
  },
  {
   "cell_type": "markdown",
   "metadata": {},
   "source": [
    "#### Apresente uma matriz de duas colunas onde cada uma contém os autovetores que devem ser utilizados para projetar os dados em duas dimensões:"
   ]
  },
  {
   "cell_type": "code",
   "execution_count": 3,
   "metadata": {},
   "outputs": [
    {
     "data": {
      "text/plain": [
       "array([[ 0.58639115,  0.15798896],\n",
       "       [ 0.4114916 ,  0.30165929],\n",
       "       [ 0.06092626, -0.68476517],\n",
       "       [-0.34709555, -0.27447666],\n",
       "       [-0.40609639,  0.57731255],\n",
       "       [-0.44465546,  0.0806883 ]])"
      ]
     },
     "execution_count": 3,
     "metadata": {},
     "output_type": "execute_result"
    }
   ],
   "source": [
    "indices_two_largest_eigenvalues = np.argsort(w)[-2:][::-1]\n",
    "\n",
    "two_largest_eigenvectors = v[:, indices_two_largest_eigenvalues]\n",
    "\n",
    "two_largest_eigenvectors"
   ]
  }
 ],
 "metadata": {
  "kernelspec": {
   "display_name": "env",
   "language": "python",
   "name": "python3"
  },
  "language_info": {
   "codemirror_mode": {
    "name": "ipython",
    "version": 3
   },
   "file_extension": ".py",
   "mimetype": "text/x-python",
   "name": "python",
   "nbconvert_exporter": "python",
   "pygments_lexer": "ipython3",
   "version": "3.10.10"
  },
  "orig_nbformat": 4
 },
 "nbformat": 4,
 "nbformat_minor": 2
}
