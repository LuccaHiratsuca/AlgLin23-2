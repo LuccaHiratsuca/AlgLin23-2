{
 "cells": [
  {
   "cell_type": "code",
   "execution_count": 1,
   "metadata": {},
   "outputs": [
    {
     "name": "stdout",
     "output_type": "stream",
     "text": [
      "Pairs with lower MSE than the initial model: [(16, 18), (19, 21), (17, 26), (14, 25), (18, 23)]\n"
     ]
    }
   ],
   "source": [
    "import numpy as np\n",
    "\n",
    "# Given data\n",
    "x = np.array([1.25, 1.52, 1.59, 1.92, 3.54, 3.56, 4.95, 5.83, 6.65, 9.26])\n",
    "y = np.array([33.76, 46.30, 42.37, 55.20, 84.13, 78.28, 112.43, 117.84, 129.77, 187.61])\n",
    "\n",
    "# Function to calculate MSE\n",
    "def calculate_mse(A, B, x, y):\n",
    "    n = len(x)\n",
    "    mse = np.sum((y - (A*x + B))**2) / n\n",
    "    return mse\n",
    "\n",
    "# Initial model coefficients\n",
    "A_initial = 13\n",
    "B_initial = 28\n",
    "initial_mse = calculate_mse(A_initial, B_initial, x, y)\n",
    "\n",
    "# Pairs of coefficients\n",
    "coeff_pairs = [(11,11), (12,15), (7,14), (16,18), (4,27), (19,21), \n",
    "               (17,26), (14,25), (18,23), (6,12)]\n",
    "\n",
    "# Check which pairs have lower MSE than the initial model\n",
    "better_pairs = []\n",
    "for A, B in coeff_pairs:\n",
    "    if calculate_mse(A, B, x, y) < initial_mse:\n",
    "        better_pairs.append((A, B))\n",
    "\n",
    "print(\"Pairs with lower MSE than the initial model:\", better_pairs)\n"
   ]
  }
 ],
 "metadata": {
  "kernelspec": {
   "display_name": "env",
   "language": "python",
   "name": "python3"
  },
  "language_info": {
   "codemirror_mode": {
    "name": "ipython",
    "version": 3
   },
   "file_extension": ".py",
   "mimetype": "text/x-python",
   "name": "python",
   "nbconvert_exporter": "python",
   "pygments_lexer": "ipython3",
   "version": "3.10.10"
  },
  "orig_nbformat": 4
 },
 "nbformat": 4,
 "nbformat_minor": 2
}
