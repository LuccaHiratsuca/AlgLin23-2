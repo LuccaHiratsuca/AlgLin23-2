{
 "cells": [
  {
   "cell_type": "code",
   "execution_count": 1,
   "metadata": {},
   "outputs": [
    {
     "name": "stdout",
     "output_type": "stream",
     "text": [
      "4.6774999999999975\n"
     ]
    }
   ],
   "source": [
    "import numpy as np\n",
    "\n",
    "A = 5.00\n",
    "B = 15.00\n",
    "x = np.array([0.38, 1.13, 1.33, 2.97, 3.04, 4.76, 5.25, 6.92, 8.69, 9.25])\n",
    "y = np.array([18.27, 21.70, 21.00, 30.68, 28.39, 38.04, 45.67, 49.65, 55.85, 57.71])\n",
    "\n",
    "def calculate_mse(A, B, x, y):\n",
    "    n = len(x)\n",
    "    mse = np.sum((y - (A*x + B))**2) / n\n",
    "    return mse\n",
    "\n",
    "print(calculate_mse(A, B, x, y))"
   ]
  }
 ],
 "metadata": {
  "kernelspec": {
   "display_name": "env",
   "language": "python",
   "name": "python3"
  },
  "language_info": {
   "codemirror_mode": {
    "name": "ipython",
    "version": 3
   },
   "file_extension": ".py",
   "mimetype": "text/x-python",
   "name": "python",
   "nbconvert_exporter": "python",
   "pygments_lexer": "ipython3",
   "version": "3.10.10"
  },
  "orig_nbformat": 4
 },
 "nbformat": 4,
 "nbformat_minor": 2
}
