{
 "cells": [
  {
   "cell_type": "code",
   "execution_count": 2,
   "metadata": {},
   "outputs": [
    {
     "name": "stdout",
     "output_type": "stream",
     "text": [
      "2.782273186418649\n"
     ]
    }
   ],
   "source": [
    "import math\n",
    "from scipy.special import comb\n",
    "\n",
    "p = 0.748\n",
    "N = 15\n",
    "entropia = 0\n",
    "\n",
    "for k in range(N + 1):\n",
    "    P_X_k = comb(N, k) * (p ** k) * ((1 - p) ** (N - k))\n",
    "    if P_X_k > 0:\n",
    "        entropia -= P_X_k * math.log2(P_X_k)\n",
    "\n",
    "print(entropia)\n"
   ]
  }
 ],
 "metadata": {
  "kernelspec": {
   "display_name": "env",
   "language": "python",
   "name": "python3"
  },
  "language_info": {
   "codemirror_mode": {
    "name": "ipython",
    "version": 3
   },
   "file_extension": ".py",
   "mimetype": "text/x-python",
   "name": "python",
   "nbconvert_exporter": "python",
   "pygments_lexer": "ipython3",
   "version": "3.10.10"
  },
  "orig_nbformat": 4
 },
 "nbformat": 4,
 "nbformat_minor": 2
}
