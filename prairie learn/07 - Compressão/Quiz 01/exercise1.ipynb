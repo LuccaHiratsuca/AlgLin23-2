{
 "cells": [
  {
   "cell_type": "code",
   "execution_count": 11,
   "metadata": {},
   "outputs": [
    {
     "name": "stdout",
     "output_type": "stream",
     "text": [
      "Huffman Codes: {'c': '00', 'u': '01', 'r': '100', 's': '101', 't': '11'}\n",
      "Encoded 'struct': 10111100010011\n",
      "The Huffman-encoded version of the word 'struct' uses 14 bits.\n"
     ]
    }
   ],
   "source": [
    "import heapq\n",
    "from collections import defaultdict, Counter\n",
    "\n",
    "class Node:\n",
    "    def __init__(self, char, freq):\n",
    "        self.char = char\n",
    "        self.freq = freq\n",
    "        self.left = None\n",
    "        self.right = None\n",
    "\n",
    "    def __lt__(self, other):\n",
    "        return self.freq < other.freq\n",
    "\n",
    "def calculate_frequency(s):\n",
    "    return Counter(s)\n",
    "\n",
    "def build_huffman_tree(freq):\n",
    "    priority_queue = [Node(char, freq) for char, freq in freq.items()]\n",
    "    heapq.heapify(priority_queue)\n",
    "    \n",
    "    while len(priority_queue) > 1:\n",
    "        left = heapq.heappop(priority_queue)\n",
    "        right = heapq.heappop(priority_queue)\n",
    "        \n",
    "        merged = Node(None, left.freq + right.freq)\n",
    "        merged.left = left\n",
    "        merged.right = right\n",
    "        \n",
    "        heapq.heappush(priority_queue, merged)\n",
    "\n",
    "    return priority_queue[0]\n",
    "\n",
    "def generate_huffman_codes(root, code, mapping):\n",
    "    if root is None:\n",
    "        return\n",
    "\n",
    "    if root.char is not None:\n",
    "        mapping[root.char] = code\n",
    "        return\n",
    "\n",
    "    generate_huffman_codes(root.left, code + \"0\", mapping)\n",
    "    generate_huffman_codes(root.right, code + \"1\", mapping)\n",
    "\n",
    "def huffman_encoding(s):\n",
    "    freq = calculate_frequency(s)\n",
    "    root = build_huffman_tree(freq)\n",
    "    \n",
    "    huffman_codes = {}\n",
    "    generate_huffman_codes(root, \"\", huffman_codes)\n",
    "    \n",
    "    encoded_str = ''.join([huffman_codes[char] for char in s])\n",
    "    return huffman_codes, encoded_str\n",
    "\n",
    "word = \"struct\"\n",
    "codes, encoded = huffman_encoding(word)\n",
    "print(f\"Huffman Codes: {codes}\")\n",
    "print(f\"Encoded 'struct': {encoded}\")\n",
    "number_of_bits = len(encoded)\n",
    "print(f\"The Huffman-encoded version of the word 'struct' uses {number_of_bits} bits.\")\n"
   ]
  },
  {
   "cell_type": "code",
   "execution_count": null,
   "metadata": {},
   "outputs": [],
   "source": []
  }
 ],
 "metadata": {
  "kernelspec": {
   "display_name": "env",
   "language": "python",
   "name": "python3"
  },
  "language_info": {
   "codemirror_mode": {
    "name": "ipython",
    "version": 3
   },
   "file_extension": ".py",
   "mimetype": "text/x-python",
   "name": "python",
   "nbconvert_exporter": "python",
   "pygments_lexer": "ipython3",
   "version": "3.10.10"
  },
  "orig_nbformat": 4
 },
 "nbformat": 4,
 "nbformat_minor": 2
}
