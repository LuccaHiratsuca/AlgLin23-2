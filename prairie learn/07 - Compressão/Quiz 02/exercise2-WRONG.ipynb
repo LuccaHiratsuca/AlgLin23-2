{
 "cells": [
  {
   "cell_type": "code",
   "execution_count": 9,
   "metadata": {},
   "outputs": [
    {
     "name": "stdout",
     "output_type": "stream",
     "text": [
      "Error is at position: 2\n"
     ]
    }
   ],
   "source": [
    "def hamming_error(sequence):\n",
    "    # Calculate the parity values\n",
    "    p1 = sequence[0] ^ sequence[2] ^ sequence[4] ^ sequence[6] ^ sequence[8]\n",
    "    p2 = sequence[1] ^ sequence[2] ^ sequence[5] ^ sequence[6] ^ sequence[9]\n",
    "    p4 = sequence[3] ^ sequence[4] ^ sequence[5] ^ sequence[6]\n",
    "    \n",
    "    error_position = 0\n",
    "    if p1 != sequence[0]:\n",
    "        error_position += 1\n",
    "    if p2 != sequence[1]:\n",
    "        error_position += 2\n",
    "    if p4 != sequence[3]:\n",
    "        error_position += 4\n",
    "        \n",
    "    return error_position\n",
    "\n",
    "sequence = [1, 0, 1, 1, 0, 1, 1, 0, 0, 0]\n",
    "error_position = hamming_error(sequence)\n",
    "print(f\"Error is at position: {error_position}\")\n"
   ]
  }
 ],
 "metadata": {
  "kernelspec": {
   "display_name": "env",
   "language": "python",
   "name": "python3"
  },
  "language_info": {
   "codemirror_mode": {
    "name": "ipython",
    "version": 3
   },
   "file_extension": ".py",
   "mimetype": "text/x-python",
   "name": "python",
   "nbconvert_exporter": "python",
   "pygments_lexer": "ipython3",
   "version": "3.10.10"
  },
  "orig_nbformat": 4
 },
 "nbformat": 4,
 "nbformat_minor": 2
}
