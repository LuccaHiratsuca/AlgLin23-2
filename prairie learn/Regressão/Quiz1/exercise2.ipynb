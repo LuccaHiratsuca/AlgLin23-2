{
 "cells": [
  {
   "cell_type": "code",
   "execution_count": 2,
   "metadata": {},
   "outputs": [
    {
     "name": "stdout",
     "output_type": "stream",
     "text": [
      "The pair with the lowest Mean Squared Error is: (2, 19)\n"
     ]
    }
   ],
   "source": [
    "import numpy as np\n",
    "\n",
    "# Given data\n",
    "x = np.array([1.15, 2.09, 3.70, 3.94, 4.30, 4.55, 4.75, 5.25, 6.83, 6.83])\n",
    "y = np.array([31.00, 14.80, 24.21, 25.95, 28.20, 21.95, 23.68, 17.93, 39.62, 38.76])\n",
    "\n",
    "# Function to calculate MSE\n",
    "def calculate_mse(A, B, x, y):\n",
    "    n = len(x)\n",
    "    mse = np.sum((y - (A*x + B))**2) / n\n",
    "    return mse\n",
    "\n",
    "# Pairs of coefficients from the options\n",
    "coeff_pairs = [(7,15), (4,14), (6,12), (2,19), (3,13)]\n",
    "\n",
    "# Calculate MSE for each pair\n",
    "mse_values = [calculate_mse(A, B, x, y) for A, B in coeff_pairs]\n",
    "\n",
    "# Determine which pair has the lowest MSE\n",
    "min_mse_index = np.argmin(mse_values)\n",
    "best_pair = coeff_pairs[min_mse_index]\n",
    "\n",
    "print(\"The pair with the lowest Mean Squared Error is:\", best_pair)\n"
   ]
  }
 ],
 "metadata": {
  "kernelspec": {
   "display_name": "env",
   "language": "python",
   "name": "python3"
  },
  "language_info": {
   "codemirror_mode": {
    "name": "ipython",
    "version": 3
   },
   "file_extension": ".py",
   "mimetype": "text/x-python",
   "name": "python",
   "nbconvert_exporter": "python",
   "pygments_lexer": "ipython3",
   "version": "3.10.10"
  },
  "orig_nbformat": 4
 },
 "nbformat": 4,
 "nbformat_minor": 2
}
