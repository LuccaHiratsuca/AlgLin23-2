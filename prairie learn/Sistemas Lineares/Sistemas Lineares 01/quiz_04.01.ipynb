{
 "cells": [
  {
   "cell_type": "markdown",
   "metadata": {},
   "source": [
    "### Dados os vetores A e B abaixo:"
   ]
  },
  {
   "cell_type": "code",
   "execution_count": 2,
   "metadata": {},
   "outputs": [],
   "source": [
    "import numpy as np\n",
    "\n",
    "A = np.array([[0.91, 0.83, 0.49, 0.06, 0.87, 0.78, 0.17, 0.33, 0.14, 0.30, 0.00, 0.19]])\n",
    "B = np.array([[0.78, 0.81, 0.85, 0.00, 0.09, 0.31, 0.96, 0.89, 0.46, 0.72, 0.80, 0.29]])"
   ]
  },
  {
   "cell_type": "markdown",
   "metadata": {},
   "source": [
    "Qual o valor de $<A, B>$?"
   ]
  },
  {
   "cell_type": "code",
   "execution_count": 8,
   "metadata": {},
   "outputs": [
    {
     "name": "stdout",
     "output_type": "stream",
     "text": [
      "[[2.9111]]\n"
     ]
    }
   ],
   "source": [
    "#Option 1\n",
    "resultado = np.dot(A, B.T)\n",
    "print(resultado)"
   ]
  },
  {
   "cell_type": "code",
   "execution_count": 9,
   "metadata": {},
   "outputs": [
    {
     "name": "stdout",
     "output_type": "stream",
     "text": [
      "2.9111000000000002\n"
     ]
    }
   ],
   "source": [
    "#Option 2\n",
    "resultado = np.sum(A*B)\n",
    "print(resultado)"
   ]
  },
  {
   "cell_type": "code",
   "execution_count": 10,
   "metadata": {},
   "outputs": [
    {
     "name": "stdout",
     "output_type": "stream",
     "text": [
      "[[2.9111]]\n"
     ]
    }
   ],
   "source": [
    "#Option 3\n",
    "resultado = A @ B.T\n",
    "print(resultado)"
   ]
  }
 ],
 "metadata": {
  "kernelspec": {
   "display_name": "env",
   "language": "python",
   "name": "python3"
  },
  "language_info": {
   "codemirror_mode": {
    "name": "ipython",
    "version": 3
   },
   "file_extension": ".py",
   "mimetype": "text/x-python",
   "name": "python",
   "nbconvert_exporter": "python",
   "pygments_lexer": "ipython3",
   "version": "3.11.4"
  },
  "orig_nbformat": 4
 },
 "nbformat": 4,
 "nbformat_minor": 2
}
