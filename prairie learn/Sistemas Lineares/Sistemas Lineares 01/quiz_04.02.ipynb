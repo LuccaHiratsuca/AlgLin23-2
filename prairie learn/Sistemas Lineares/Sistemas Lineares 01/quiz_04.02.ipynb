{
 "cells": [
  {
   "cell_type": "markdown",
   "metadata": {},
   "source": [
    "### Dados os vetores A, B e C abaixo:"
   ]
  },
  {
   "cell_type": "code",
   "execution_count": 16,
   "metadata": {},
   "outputs": [],
   "source": [
    "import numpy as np\n",
    "\n",
    "A = np.array([0.29, 0.81, 0.46, 0.86, 0.50, 0.69, 0.57, 0.02, 0.69, 0.40])\n",
    "B = np.array([0.78, 0.11, 0.45, 0.89, 0.47, 0.41, 0.13, 0.22, 0.64, 0.62])\n",
    "C = np.array([0.67, 0.17, 0.28, 0.75, 0.73, 0.70, 0.60, 0.78, 0.92, 0.22])"
   ]
  },
  {
   "cell_type": "markdown",
   "metadata": {},
   "source": [
    "Qual o valor de D para $D = (A+B) @C$ ?"
   ]
  },
  {
   "cell_type": "code",
   "execution_count": 23,
   "metadata": {},
   "outputs": [
    {
     "data": {
      "text/plain": [
       "5.9739"
      ]
     },
     "execution_count": 23,
     "metadata": {},
     "output_type": "execute_result"
    }
   ],
   "source": [
    "\n",
    "sum_AB = A + B\n",
    "\n",
    "D = sum_AB @ C\n",
    "D"
   ]
  }
 ],
 "metadata": {
  "kernelspec": {
   "display_name": "env",
   "language": "python",
   "name": "python3"
  },
  "language_info": {
   "codemirror_mode": {
    "name": "ipython",
    "version": 3
   },
   "file_extension": ".py",
   "mimetype": "text/x-python",
   "name": "python",
   "nbconvert_exporter": "python",
   "pygments_lexer": "ipython3",
   "version": "3.11.4"
  },
  "orig_nbformat": 4
 },
 "nbformat": 4,
 "nbformat_minor": 2
}
