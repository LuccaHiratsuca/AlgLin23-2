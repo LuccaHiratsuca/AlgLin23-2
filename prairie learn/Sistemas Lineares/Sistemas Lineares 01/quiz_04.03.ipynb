{
 "cells": [
  {
   "cell_type": "markdown",
   "metadata": {},
   "source": [
    "<p align=\"center\" >\n",
    "    <img src=\"../../../my assets/02-sistemas_lineares/prairie_learn_05.jpg\" alt=\"Kitten\" title=\"A cute kitten\" width=\"350\" height=\"350\" /> \n",
    "</p>"
   ]
  }
 ],
 "metadata": {
  "language_info": {
   "name": "python"
  },
  "orig_nbformat": 4
 },
 "nbformat": 4,
 "nbformat_minor": 2
}
