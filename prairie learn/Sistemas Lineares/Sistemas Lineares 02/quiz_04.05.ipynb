{
 "cells": [
  {
   "cell_type": "markdown",
   "metadata": {},
   "source": [
    "#### Dada as matrizes $A \\in \\mathbb{R}^{6 \\times 4}$, $B \\in \\mathbb{R}^{4 \\times 6}$ e $C \\in \\mathbb{R}^{6 \\times 5}$ abaixo:\n"
   ]
  },
  {
   "cell_type": "code",
   "execution_count": 1,
   "metadata": {},
   "outputs": [],
   "source": [
    "import numpy as np\n",
    "\n",
    "A = np.array([[0.31, 0.41, 0.24, 0.78], [0.95, 0.16, 0.50, 0.14], [0.98, 0.84, 0.08, 0.46], [0.63, 0.49, 0.13, 0.68], [0.52, 0.23, 0.31, 0.55], [0.20, 0.76, 1.00, 0.89]])\n",
    "B = np.array([[0.24, 0.36, 0.32, 0.21, 0.87, 0.27], [0.16, 0.61, 0.22, 0.73, 1.00, 0.45], [0.59, 0.91, 0.68, 0.54, 0.69, 0.20], [0.26, 0.74, 0.84, 0.09, 0.72, 0.09]])\n",
    "C = np.array([[0.18, 0.04, 0.73, 0.04, 0.46], [0.09, 0.27, 0.87, 0.49, 0.88], [0.72, 0.23, 0.46, 0.46, 0.46], [0.37, 0.53, 0.60, 0.11, 0.52], [0.96, 0.79, 0.07, 0.50, 0.97], [0.79, 0.76, 0.29, 0.57, 0.67]])"
   ]
  },
  {
   "cell_type": "markdown",
   "metadata": {},
   "source": [
    "Calcule Y tal que Y = (AB)C"
   ]
  },
  {
   "cell_type": "code",
   "execution_count": 6,
   "metadata": {},
   "outputs": [
    {
     "name": "stdout",
     "output_type": "stream",
     "text": [
      "[[2.781599,2.267782,2.37311 ,2.035801,3.621801],\n",
      " [2.713904,2.260348,2.249532,1.912502,3.51034 ],\n",
      " [3.771004,3.235958,2.826502,2.6178  ,4.75927 ],\n",
      " [3.04797 ,2.522154,2.421087,2.176592,3.889634],\n",
      " [2.524054,2.051477,2.139552,1.83001 ,3.276695],\n",
      " [4.720674,3.937283,4.401877,3.485382,6.353235]]\n"
     ]
    }
   ],
   "source": [
    "Y = (A @ B) @ C\n",
    "Y = np.array2string(Y, separator=',')\n",
    "print(Y)"
   ]
  }
 ],
 "metadata": {
  "kernelspec": {
   "display_name": "env",
   "language": "python",
   "name": "python3"
  },
  "language_info": {
   "codemirror_mode": {
    "name": "ipython",
    "version": 3
   },
   "file_extension": ".py",
   "mimetype": "text/x-python",
   "name": "python",
   "nbconvert_exporter": "python",
   "pygments_lexer": "ipython3",
   "version": "3.11.4"
  },
  "orig_nbformat": 4
 },
 "nbformat": 4,
 "nbformat_minor": 2
}
