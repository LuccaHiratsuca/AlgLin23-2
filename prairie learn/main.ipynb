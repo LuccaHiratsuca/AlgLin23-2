{
 "cells": [
  {
   "cell_type": "code",
   "execution_count": 1,
   "metadata": {},
   "outputs": [
    {
     "name": "stdout",
     "output_type": "stream",
     "text": [
      "0.034637517336000005\n"
     ]
    }
   ],
   "source": [
    "import numpy as np\n",
    "\n",
    "A = np.array([[0.90, 0.50, 0.50, 0.20, 1.00, 0.10, 1.00, 0.10, 0.90, 0.30, 0.50, 0.60], [1.00, 0.00, 1.00, 0.40, 0.90, 0.90, 0.30, 0.40, 0.90, 0.50, 0.30, 0.90], [0.50, 0.20, 0.60, 0.00, 0.40, 0.10, 0.90, 0.50, 0.50, 0.40, 0.80, 0.60], [0.20, 0.80, 0.80, 0.20, 0.80, 0.20, 0.00, 0.70, 0.70, 0.40, 0.20, 0.10], [0.20, 0.70, 1.00, 0.00, 0.40, 0.50, 0.70, 0.50, 0.20, 0.30, 0.90, 0.40], [0.90, 0.40, 0.40, 0.80, 0.60, 0.60, 0.90, 0.60, 0.10, 0.40, 0.00, 0.30], [0.40, 0.90, 0.40, 0.80, 0.60, 0.30, 0.80, 0.40, 0.40, 0.30, 0.60, 0.30], [0.50, 0.00, 0.20, 0.10, 0.20, 0.80, 0.70, 0.20, 0.20, 1.00, 0.20, 0.80], [0.70, 0.10, 0.20, 0.80, 0.00, 0.40, 0.00, 0.10, 0.80, 0.20, 0.10, 0.10], [0.20, 0.50, 0.60, 0.80, 0.40, 0.70, 0.60, 1.00, 0.60, 0.50, 0.40, 0.50], [0.00, 0.70, 0.80, 0.30, 1.00, 0.20, 0.90, 0.60, 0.40, 0.30, 0.70, 0.10], [0.50, 0.70, 0.00, 0.10, 0.90, 0.30, 0.90, 0.00, 1.00, 0.40, 0.40, 0.30]])\n",
    "\n",
    "det_a = np.linalg.det(A)\n",
    "print(det_a)"
   ]
  },
  {
   "cell_type": "code",
   "execution_count": 2,
   "metadata": {},
   "outputs": [
    {
     "name": "stdout",
     "output_type": "stream",
     "text": [
      "[0.25 0.5 ]\n"
     ]
    }
   ],
   "source": [
    "A = np.array([[4,2],\n",
    "     [2,7]])\n",
    "Y = np.array([2,4])\n",
    "print(np.linalg.solve(A,Y))"
   ]
  }
 ],
 "metadata": {
  "kernelspec": {
   "display_name": "env",
   "language": "python",
   "name": "python3"
  },
  "language_info": {
   "codemirror_mode": {
    "name": "ipython",
    "version": 3
   },
   "file_extension": ".py",
   "mimetype": "text/x-python",
   "name": "python",
   "nbconvert_exporter": "python",
   "pygments_lexer": "ipython3",
   "version": "3.10.10"
  },
  "orig_nbformat": 4
 },
 "nbformat": 4,
 "nbformat_minor": 2
}
